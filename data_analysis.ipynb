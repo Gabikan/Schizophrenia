{
 "cells": [
  {
   "cell_type": "code",
   "execution_count": null,
   "metadata": {},
   "outputs": [],
   "source": [
    "import pandas as pd\n",
    "import matplotlib.pyplot as plt\n",
    "import seaborn as sns\n",
    "from sklearn.preprocessing import MinMaxScaler"
   ]
  },
  {
   "cell_type": "code",
   "execution_count": null,
   "metadata": {},
   "outputs": [],
   "source": [
    "# 1️⃣ CSV-DATEI EINLESEN (Mit angepassten Spaltennamen)\n",
    "file_path = \"schizophrenia_dataset.csv\"\n",
    "df = pd.read_csv(file_path, encoding='utf-8', sep=',')\n",
    "\n",
    "df.columns = [\n",
    "    \"Patient_ID\", \"Age\", \"Gender\", \"Education_Level\", \"Marital_Status\", \"Occupation\", \"Income_Level\",\n",
    "    \"Living_Area\", \"Diagnosis\", \"Disease_Duration\", \"Hospitalizations\", \"Family_History\", \"Substance_Use\",\n",
    "    \"Suicide_Attempt\", \"Positive_Symptom_Score\", \"Negative_Symptom_Score\", \"GAF_Score\", \"Social_Support\",\n",
    "    \"Stress_Factors\", \"Medication_Adherence\"\n",
    "]"
   ]
  },
  {
   "cell_type": "code",
   "execution_count": null,
   "metadata": {},
   "outputs": [],
   "source": [
    "# 2️⃣ ERSTER ÜBERBLICK ÜBER DIE DATEN\n",
    "display(df.head())  # Zeigt die ersten 5 Zeilen\n",
    "display(df.info())  # Infos zu Datentypen und fehlenden Werten\n",
    "display(df.describe())  # Statistische Übersicht"
   ]
  },
  {
   "cell_type": "code",
   "execution_count": null,
   "metadata": {},
   "outputs": [],
   "source": [
    "# 3️⃣ WELCHES FELD SOLL VORHERSAGT WERDEN?\n",
    "prediction_target = \"Diagnosis\"  # 0: Nicht schizophren, 1: Schizophren\n",
    "print(f\"Wir möchten Vorhersagen für: {prediction_target}\")"
   ]
  },
  {
   "cell_type": "code",
   "execution_count": null,
   "metadata": {},
   "outputs": [],
   "source": [
    "# 4️⃣ STATISTISCHE WERTE PRO SPALTE\n",
    "display(df.describe())"
   ]
  },
  {
   "cell_type": "code",
   "execution_count": null,
   "metadata": {},
   "outputs": [],
   "source": [
    "# 5️⃣ HISTOGRAMM FÜR EIN WICHTIGES MERKMAL\n",
    "plt.figure(figsize=(8, 5))\n",
    "sns.histplot(df[\"Age\"], bins=20, kde=True)\n",
    "plt.title(\"Altersverteilung der Patienten\")\n",
    "plt.xlabel(\"Alter\")\n",
    "plt.ylabel(\"Anzahl\")\n",
    "plt.show()\n"
   ]
  },
  {
   "cell_type": "code",
   "execution_count": null,
   "metadata": {},
   "outputs": [],
   "source": [
    "# 6️⃣ OPTIONAL: SCALING EINES FELDES\n",
    "scaler = MinMaxScaler()\n",
    "df[[\"Age\"]] = scaler.fit_transform(df[[\"Age\"]])\n",
    "print(\"Alter nach MinMax-Skalierung:\")\n",
    "display(df[[\"Age\"]].head())"
   ]
  },
  {
   "cell_type": "code",
   "execution_count": null,
   "metadata": {},
   "outputs": [],
   "source": [
    "# 7️⃣ BEREINIGTE DATEN SPEICHERN\n",
    "df.to_csv(\"schizophrenia_dataset_cleaned.csv\", index=False)\n",
    "print(\"Datei gespeichert: schizophrenia_dataset_cleaned.csv\")"
   ]
  }
 ],
 "metadata": {
  "language_info": {
   "name": "python"
  },
  "orig_nbformat": 4
 },
 "nbformat": 4,
 "nbformat_minor": 2
}
